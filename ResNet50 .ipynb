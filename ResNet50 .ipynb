{
  "nbformat": 4,
  "nbformat_minor": 0,
  "metadata": {
    "colab": {
      "name": "ResNet50.ipynb",
      "provenance": [],
      "collapsed_sections": []
    },
    "kernelspec": {
      "name": "python3",
      "display_name": "Python 3"
    },
    "accelerator": "GPU"
  },
  "cells": [
    {
      "cell_type": "code",
      "metadata": {
        "id": "ncCXYhHkc1Vr",
        "colab_type": "code",
        "colab": {}
      },
      "source": [
        "import time\n",
        "import matplotlib.pyplot as plt\n",
        "import numpy as np \n",
        "import tensorflow as tf\n",
        "from tensorflow import keras\n",
        "from keras.layers import Activation, Add, Conv2d, Conv2DTranspose, BatchNormalization\n",
        "from PIL import Image\n"
      ],
      "execution_count": null,
      "outputs": []
    },
    {
      "cell_type": "code",
      "metadata": {
        "id": "Af9JbW2FepPU",
        "colab_type": "code",
        "colab": {
          "base_uri": "https://localhost:8080/",
          "height": 34
        },
        "outputId": "5aacd6cf-5ac7-4527-a7b3-66c09316c2ce"
      },
      "source": [
        "device_name = tf.test.gpu_device_name()\n",
        "if device_name != '/device:GPU:0':\n",
        "    raise SystemError('GPU device not found')\n",
        "print('Found GPU at: {}'.format(device_name))"
      ],
      "execution_count": null,
      "outputs": [
        {
          "output_type": "stream",
          "text": [
            "Found GPU at: /device:GPU:0\n"
          ],
          "name": "stdout"
        }
      ]
    },
    {
      "cell_type": "code",
      "metadata": {
        "id": "tn_I1DZkXPvR",
        "colab_type": "code",
        "colab": {}
      },
      "source": [
        "def res_identity(x, filters): \n",
        "    # resnet block where dimension doesnot change.\n",
        "    # The skip connection is just simple identity conncection\n",
        "    # There will be 3 blocks and then input will be added\n",
        "\n",
        "    x_skip = x # this will be used for addition with the residual block \n",
        "    f1, f2 = filters\n",
        "\n",
        "    # first block \n",
        "    x = Conv2D(f1, kernel_size=(1, 1), strides=(1, 1), padding='valid', kernel_regularizer=l2(0.001))(x)\n",
        "    x = Activation(activations.relu)(x)\n",
        "    x = BatchNormalization()(x)\n",
        "\n",
        "    # second block # bottleneck (but size kept same with padding)\n",
        "    x = Conv2D(f1, kernel_size=(3, 3), strides=(1, 1), padding='same', kernel_regularizer=l2(0.001))(x)\n",
        "    x = Activation(activations.relu)(x)\n",
        "    x = BatchNormalization()(x)\n",
        "\n",
        "    # third block activation used after adding the input\n",
        "    x = Conv2D(f2, kernel_size=(1, 1), strides=(1, 1), padding='valid', kernel_regularizer=l2(0.001))(x)\n",
        "    x = BatchNormalization()(x)\n",
        "\n",
        "    # add the input \n",
        "    x = Add()([x, x_skip])\n",
        "    x = Activation(activations.relu)(x)\n",
        "\n",
        "    return x"
      ],
      "execution_count": null,
      "outputs": []
    },
    {
      "cell_type": "code",
      "metadata": {
        "id": "nzJ7t0OrNZlJ",
        "colab_type": "code",
        "colab": {}
      },
      "source": [
        "def res_conv(x, s, filters):\n",
        "    # here the input size changes\n",
        "    x_skip = x\n",
        "    f1, f2 = filters\n",
        "\n",
        "    # first block\n",
        "    x = Conv2D(f1, kernel_size=(1, 1), strides=(s, s), padding='valid', kernel_regularizer=l2(0.001))(x)\n",
        "    # when s = 2 then it is like downsizing the feature map\n",
        "    x = Activation(activations.relu)(x)\n",
        "    x = BatchNormalization()(x)\n",
        "\n",
        "    # second block\n",
        "    x = Conv2D(f1, kernel_size=(3, 3), strides=(1, 1), padding='same', kernel_regularizer=l2(0.001))(x)\n",
        "    x = Activation(activations.relu)(x)\n",
        "    x = BatchNormalization()(x)\n",
        "\n",
        "    # third block\n",
        "    x = Conv2D(f2, kernel_size=(1, 1), strides=(1, 1), padding='valid', kernel_regularizer=l2(0.001))(x)\n",
        "    x = BatchNormalization()(x)\n",
        "\n",
        "    # shortcut \n",
        "    x_skip = Conv2D(f2, kernel_size=(1, 1), strides=(s, s), padding='valid', kernel_regularizer=l2(0.001))(x_skip)\n",
        "    x_skip = BatchNormalization()(x_skip)\n",
        "\n",
        "    # add \n",
        "    x = Add()([x, x_skip])\n",
        "    x = Activation(activations.relu)(x)\n",
        "\n",
        "    return x"
      ],
      "execution_count": null,
      "outputs": []
    },
    {
      "cell_type": "code",
      "metadata": {
        "id": "AcGdcISrY6v0",
        "colab_type": "code",
        "colab": {}
      },
      "source": [
        "def dres_conv(x, s, filters):\n",
        "    # here the input size changes\n",
        "    x_skip = x\n",
        "    f1, f2 = filters\n",
        "\n",
        "    # first block\n",
        "    x = Conv2DTranspose(f1, kernel_size=(1, 1), strides=(s, s), padding='valid', kernel_regularizer=l2(0.001))(x)\n",
        "    # when s = 2 then it is like downsizing the feature map\n",
        "    x = Activation(activations.relu)(x)\n",
        "    x = BatchNormalization()(x)\n",
        "\n",
        "    # second block\n",
        "    x = Conv2DTranspose(f1, kernel_size=(3, 3), strides=(1, 1), padding='same', kernel_regularizer=l2(0.001))(x)\n",
        "    x = Activation(activations.relu)(x)\n",
        "    x = BatchNormalization()(x)\n",
        "\n",
        "    # third block\n",
        "    x = Conv2DTranspose(f2, kernel_size=(1, 1), strides=(1, 1), padding='valid', kernel_regularizer=l2(0.001))(x)\n",
        "    x = BatchNormalization()(x)\n",
        "\n",
        "    # shortcut \n",
        "    x_skip = Conv2DTranspose(f2, kernel_size=(1, 1), strides=(s, s), padding='valid', kernel_regularizer=l2(0.001))(x_skip)\n",
        "    x_skip = BatchNormalization()(x_skip)\n",
        "\n",
        "    # add \n",
        "    x = Add()([x, x_skip])\n",
        "    x = Activation(activations.relu)(x)\n",
        "\n",
        "    return x"
      ],
      "execution_count": null,
      "outputs": []
    },
    {
      "cell_type": "code",
      "metadata": {
        "id": "7e7_77nWaBJT",
        "colab_type": "code",
        "colab": {}
      },
      "source": [
        "def dres_identity(x, filters): \n",
        "    # resnet block where dimension doesnot change.\n",
        "    # The skip connection is just simple identity conncection\n",
        "    # There will be 3 blocks and then input will be added\n",
        "\n",
        "    x_skip = x # this will be used for addition with the residual block \n",
        "    f1, f2 = filters\n",
        "\n",
        "    # first block \n",
        "    x = Conv2DTranspose(f1, kernel_size=(1, 1), strides=(1, 1), padding='valid', kernel_regularizer=l2(0.001))(x)\n",
        "    x = Activation(activations.relu)(x)\n",
        "    x = BatchNormalization()(x)\n",
        "\n",
        "    # second block # bottleneck (but size kept same with padding)\n",
        "    x = Conv2DTranspose(f1, kernel_size=(3, 3), strides=(1, 1), padding='same', kernel_regularizer=l2(0.001))(x)\n",
        "    x = Activation(activations.relu)(x)\n",
        "    x = BatchNormalization()(x)\n",
        "\n",
        "    # third block activation used after adding the input\n",
        "    x = Conv2DTranspose(f2, kernel_size=(1, 1), strides=(1, 1), padding='valid', kernel_regularizer=l2(0.001))(x)\n",
        "    x = BatchNormalization()(x)\n",
        "\n",
        "    # add the input \n",
        "    x = Add()([x, x_skip])\n",
        "    x = Activation(activations.relu)(x)\n",
        "\n",
        "    return x"
      ],
      "execution_count": null,
      "outputs": []
    },
    {
      "cell_type": "code",
      "metadata": {
        "id": "nL52icaqaSpp",
        "colab_type": "code",
        "colab": {}
      },
      "source": [
        "def Encoder():\n",
        "\n",
        "    input_im = Input(shape=(train_im.shape[1], train_im.shape[2], train_im.shape[3])) # cifar 10 images size\n",
        "    x = ZeroPadding2D(padding=(3, 3))(input_im)\n",
        "\n",
        "    # 1st stage\n",
        "    # here we perform maxpooling\n",
        "    x = Conv2D(64, kernel_size=(7, 7), strides=(2, 2))(x)\n",
        "    x = BatchNormalization()(x)\n",
        "    x = Activation(activations.relu)(x)\n",
        "\n",
        "    #2nd stage \n",
        "    # frm here on only conv block and identity block, no pooling\n",
        "\n",
        "    x = res_conv(x, s=1, filters=(64, 256))\n",
        "    x = res_identity(x, filters=(64, 256))\n",
        "    x = res_identity(x, filters=(64, 256))\n",
        "\n",
        "    # 3rd stage\n",
        "\n",
        "    x = res_conv(x, s=2, filters=(128, 512))\n",
        "    x = res_identity(x, filters=(128, 512))\n",
        "    x = res_identity(x, filters=(128, 512))\n",
        "    x = res_identity(x, filters=(128, 512))\n",
        "\n",
        "    # 4th stage\n",
        "\n",
        "    x = res_conv(x, s=2, filters=(256, 1024))\n",
        "    x = res_identity(x, filters=(256, 1024))\n",
        "    x = res_identity(x, filters=(256, 1024))\n",
        "    x = res_identity(x, filters=(256, 1024))\n",
        "    x = res_identity(x, filters=(256, 1024))\n",
        "    x = res_identity(x, filters=(256, 1024))\n",
        "\n",
        "    # 5th stage\n",
        "\n",
        "    x = res_conv(x, s=2, filters=(512, 2048))\n",
        "    x = res_identity(x, filters=(512, 2048))\n",
        "    x = res_identity(x, filters=(512, 2048))\n",
        "\n",
        "    # ends with average pooling and dense connection\n",
        "\n",
        "    x = AveragePooling2D((2, 2), padding='same')(x)\n",
        "\n",
        "    x = Flatten()(x)\n",
        "    x = Dense(2048, kernel_initializer='he_normal')(x) #multi-class\n",
        "\n",
        "    # define the model \n",
        "\n",
        "    model = Model(inputs=input_im, outputs=x, name='Resnet50')\n",
        "\n",
        "    return model"
      ],
      "execution_count": null,
      "outputs": []
    },
    {
      "cell_type": "code",
      "metadata": {
        "id": "dRGMKK9GwawY",
        "colab_type": "code",
        "colab": {}
      },
      "source": [
        "def Decoder():\n",
        "    inputs = Input(x)\n",
        "    x = Dense(2048kernel_initializer='he_normal')(x)\n",
        "    x = Flatten()(x)\n",
        "    x = AveragePooling2D((2, 2), padding='same')(x)\n",
        "\n",
        "\n",
        "    x = dres_identity(x, filters=(512, 2048))\n",
        "    x = dres_identity(x, filters=(512, 2048))\n",
        "    x = dres_conv(x, s=2, filters=(512, 2048))\n",
        "\n",
        "\n",
        "    x = dres_identity(x, filters=(256, 1024))\n",
        "    x = dres_identity(x, filters=(256, 1024))\n",
        "    x = dres_identity(x, filters=(256, 1024))\n",
        "    x = dres_identity(x, filters=(256, 1024))\n",
        "    x = dres_identity(x, filters=(256, 1024))\n",
        "    x = dres_conv(x, s=2, filters=(256, 1024))\n",
        "\n",
        "\n",
        "    x = dres_identity(x, filters=(128, 512))\n",
        "    x = dres_identity(x, filters=(128, 512))\n",
        "    x = dres_identity(x, filters=(128, 512))\n",
        "    x = dres_conv(x, s=2, filters=(128, 512))\n",
        "\n",
        "\n",
        "    x = dres_identity(x, filters=(64, 256))\n",
        "    x = dres_identity(x, filters=(64, 256))\n",
        "    x = dres_conv(x, s=1, filters=(64, 256))\n",
        "\n",
        "\n",
        "    x = Activation(activations.relu)(x)\n",
        "    x = BatchNormalization()(x)\n",
        "    x = Conv2DTransposed(64, kernel_size=(7, 7), strides=(2, 2))(x)\n",
        "\n",
        "    model = Model(inputs=inputs, outputs=x, name='Resnet50')\n",
        "\n",
        "    return model"
      ],
      "execution_count": null,
      "outputs": []
    }
  ]
}