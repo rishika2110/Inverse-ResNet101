{
  "nbformat": 4,
  "nbformat_minor": 0,
  "metadata": {
    "colab": {
      "name": "TF_ResNet101_Train.ipynb",
      "provenance": [],
      "collapsed_sections": []
    },
    "kernelspec": {
      "name": "python3",
      "display_name": "Python 3"
    },
    "accelerator": "GPU"
  },
  "cells": [
    {
      "cell_type": "markdown",
      "metadata": {
        "id": "2lM7gdDVAESj",
        "colab_type": "text"
      },
      "source": [
        "## Importing Libraries"
      ]
    },
    {
      "cell_type": "code",
      "metadata": {
        "id": "ncCXYhHkc1Vr",
        "colab_type": "code",
        "colab": {}
      },
      "source": [
        "import datetime\n",
        "import matplotlib.pyplot as plt\n",
        "import numpy as np \n",
        "import tensorflow as tf\n",
        "import tensorflow.keras\n",
        "from tensorflow.keras import activations\n",
        "from tensorflow.keras.datasets import cifar10\n",
        "from tensorflow.keras.regularizers import l2\n",
        "from tensorflow.keras.layers import Activation, Add, AveragePooling2D, BatchNormalization, Conv2D, Conv2DTranspose, Dense, Flatten, Input, Reshape, ZeroPadding2D\n",
        "from tensorflow.keras.applications import ResNet101\n",
        "from PIL import Image\n",
        "\n",
        "from google.colab import drive"
      ],
      "execution_count": null,
      "outputs": []
    },
    {
      "cell_type": "markdown",
      "metadata": {
        "id": "KEoWFflcCXPB",
        "colab_type": "text"
      },
      "source": [
        "## Initializing GPU Runtime"
      ]
    },
    {
      "cell_type": "code",
      "metadata": {
        "id": "Af9JbW2FepPU",
        "colab_type": "code",
        "colab": {
          "base_uri": "https://localhost:8080/",
          "height": 34
        },
        "outputId": "8ba8109f-97a8-471a-cb34-26cc045b3277"
      },
      "source": [
        "device_name = tf.test.gpu_device_name()\n",
        "if device_name != '/device:GPU:0':\n",
        "    raise SystemError('GPU device not found')\n",
        "print('Found GPU at: {}'.format(device_name))"
      ],
      "execution_count": null,
      "outputs": [
        {
          "output_type": "stream",
          "text": [
            "Found GPU at: /device:GPU:0\n"
          ],
          "name": "stdout"
        }
      ]
    },
    {
      "cell_type": "markdown",
      "metadata": {
        "id": "F-2cVKHLAH-t",
        "colab_type": "text"
      },
      "source": [
        "## Creating Required Layer Blocks"
      ]
    },
    {
      "cell_type": "code",
      "metadata": {
        "id": "AcGdcISrY6v0",
        "colab_type": "code",
        "colab": {}
      },
      "source": [
        "def dres_conv(x, s, filters):\n",
        "    # here the input size changes\n",
        "    x_skip = x\n",
        "    f1, f2 = filters\n",
        "\n",
        "    # third block\n",
        "    x = Conv2DTranspose(f2, kernel_size=(1, 1), strides=(1, 1), padding='valid')(x)\n",
        "    x = BatchNormalization()(x)\n",
        "    x = Activation(activations.relu)(x)\n",
        "\n",
        "    # second block\n",
        "    x = Conv2DTranspose(f1, kernel_size=(3, 3), strides=(1, 1), padding='same')(x)\n",
        "    x = BatchNormalization()(x)\n",
        "    x = Activation(activations.relu)(x)\n",
        "\n",
        "    # third block\n",
        "    x = Conv2DTranspose(f1, kernel_size=(1, 1), strides=(s, s), padding='valid')(x)\n",
        "    # when s = 2 then it is like downsizing the feature map\n",
        "    x = BatchNormalization()(x)\n",
        "\n",
        "    # shortcut \n",
        "    x_skip = Conv2DTranspose(f1, kernel_size=(1, 1), strides=(s, s), padding='valid')(x_skip)\n",
        "    x_skip = BatchNormalization()(x_skip)\n",
        "\n",
        "    # add \n",
        "    x = Add()([x, x_skip])\n",
        "    x = Activation(activations.relu)(x)\n",
        "\n",
        "    return x"
      ],
      "execution_count": null,
      "outputs": []
    },
    {
      "cell_type": "code",
      "metadata": {
        "id": "7e7_77nWaBJT",
        "colab_type": "code",
        "colab": {}
      },
      "source": [
        "def dres_identity(x, filters): \n",
        "    # resnet block where dimension doesnot change.\n",
        "    # The skip connection is just simple identity conncection\n",
        "    # There will be 3 blocks and then input will be added\n",
        "\n",
        "    x_skip = x # this will be used for addition with the residual block \n",
        "    f1, f2 = filters\n",
        "\n",
        "    # first block \n",
        "    x = Conv2DTranspose(f2, kernel_size=(1, 1), strides=(1, 1), padding='valid')(x)\n",
        "    x = BatchNormalization()(x)\n",
        "    x = Activation(activations.relu)(x)\n",
        "\n",
        "\n",
        "    # second block # bottleneck (but size kept same with padding)\n",
        "    x = Conv2DTranspose(f1, kernel_size=(3, 3), strides=(1, 1), padding='same')(x)\n",
        "    x = BatchNormalization()(x)\n",
        "    x = Activation(activations.relu)(x)\n",
        "\n",
        "    # third block activation used after adding the input\n",
        "    x = Conv2DTranspose(f1, kernel_size=(1, 1), strides=(1, 1), padding='valid')(x)\n",
        "    x = BatchNormalization()(x)\n",
        "\n",
        "    # add the input \n",
        "    x = Add()([x, x_skip])\n",
        "    x = Activation(activations.relu)(x)\n",
        "\n",
        "    return x"
      ],
      "execution_count": null,
      "outputs": []
    },
    {
      "cell_type": "markdown",
      "metadata": {
        "id": "5jYa69e_APqs",
        "colab_type": "text"
      },
      "source": [
        "## Loading Data"
      ]
    },
    {
      "cell_type": "code",
      "metadata": {
        "id": "IHaXfDefr0w4",
        "colab_type": "code",
        "colab": {
          "base_uri": "https://localhost:8080/",
          "height": 85
        },
        "outputId": "8f45ba00-4985-48ba-e28c-9d20122570f7"
      },
      "source": [
        "(x_train, _), (x_test, _) = cifar10.load_data()\n",
        "x_train = x_train.astype('float32') / 255.\n",
        "x_test = x_test.astype('float32') / 255.\n",
        "print(f\"Shape of x_train: {x_train.shape}\")\n",
        "print(f\"Shape of x_test: {x_test.shape}\")"
      ],
      "execution_count": null,
      "outputs": [
        {
          "output_type": "stream",
          "text": [
            "Downloading data from https://www.cs.toronto.edu/~kriz/cifar-10-python.tar.gz\n",
            "170500096/170498071 [==============================] - 4s 0us/step\n",
            "Shape of x_train: (50000, 32, 32, 3)\n",
            "Shape of x_test: (10000, 32, 32, 3)\n"
          ],
          "name": "stdout"
        }
      ]
    },
    {
      "cell_type": "markdown",
      "metadata": {
        "id": "GUH7UOi6_9Qz",
        "colab_type": "text"
      },
      "source": [
        "## Creating Encoder"
      ]
    },
    {
      "cell_type": "code",
      "metadata": {
        "id": "nL52icaqaSpp",
        "colab_type": "code",
        "colab": {
          "base_uri": "https://localhost:8080/",
          "height": 51
        },
        "outputId": "581bb50a-bcb9-46d6-bce4-9d04a60184c0"
      },
      "source": [
        "input_im = Input(shape=(x_train.shape[1], x_train.shape[2], x_train.shape[3]))\n",
        "Encoder = ResNet101(include_top=False, weights='imagenet', input_shape=(x_train.shape[1], x_train.shape[2], x_train.shape[3]))\n",
        "x = Encoder(input_im)\n",
        "x = Flatten()(x)\n",
        "encoding = Dense(2048, kernel_initializer='he_normal')(x)\n",
        "encoder = tf.keras.Model(inputs=input_im, outputs=encoding, name='Encoder')"
      ],
      "execution_count": null,
      "outputs": [
        {
          "output_type": "stream",
          "text": [
            "Downloading data from https://storage.googleapis.com/tensorflow/keras-applications/resnet/resnet101_weights_tf_dim_ordering_tf_kernels_notop.h5\n",
            "171450368/171446536 [==============================] - 1s 0us/step\n"
          ],
          "name": "stdout"
        }
      ]
    },
    {
      "cell_type": "markdown",
      "metadata": {
        "id": "Xbm0knOp__1l",
        "colab_type": "text"
      },
      "source": [
        "## Creating Decoder"
      ]
    },
    {
      "cell_type": "code",
      "metadata": {
        "id": "n2_t5HDbHoXX",
        "colab_type": "code",
        "colab": {}
      },
      "source": [
        "# Decoder\n",
        "dec_input = Input(shape=(2048,))\n",
        "x = Dense(2 * 2 * 2048, kernel_initializer='he_normal')(dec_input)\n",
        "x = Reshape((2, 2, 2048))(x)\n",
        "\n",
        "x = dres_conv(x, s=2, filters=(512, 2048))\n",
        "x = dres_identity(x, filters=(512, 2048))\n",
        "x = dres_identity(x, filters=(512, 2048))\n",
        "\n",
        "x = dres_conv(x, s=2, filters=(256, 1024))\n",
        "x = dres_identity(x, filters=(256, 1024))\n",
        "x = dres_identity(x, filters=(256, 1024))\n",
        "x = dres_identity(x, filters=(256, 1024))\n",
        "x = dres_identity(x, filters=(256, 1024))\n",
        "x = dres_identity(x, filters=(256, 1024))\n",
        "x = dres_identity(x, filters=(256, 1024))\n",
        "x = dres_identity(x, filters=(256, 1024))\n",
        "x = dres_identity(x, filters=(256, 1024))\n",
        "x = dres_identity(x, filters=(256, 1024))\n",
        "x = dres_identity(x, filters=(256, 1024))\n",
        "x = dres_identity(x, filters=(256, 1024))\n",
        "x = dres_identity(x, filters=(256, 1024))\n",
        "x = dres_identity(x, filters=(256, 1024))\n",
        "x = dres_identity(x, filters=(256, 1024))\n",
        "x = dres_identity(x, filters=(256, 1024))\n",
        "x = dres_identity(x, filters=(256, 1024))\n",
        "x = dres_identity(x, filters=(256, 1024))\n",
        "x = dres_identity(x, filters=(256, 1024))\n",
        "x = dres_identity(x, filters=(256, 1024))\n",
        "x = dres_identity(x, filters=(256, 1024))\n",
        "x = dres_identity(x, filters=(256, 1024))\n",
        "x = dres_identity(x, filters=(256, 1024))\n",
        "\n",
        "\n",
        "x = dres_conv(x, s=2, filters=(128, 512))\n",
        "x = dres_identity(x, filters=(128, 512))\n",
        "x = dres_identity(x, filters=(128, 512))\n",
        "x = dres_identity(x, filters=(128, 512))\n",
        "\n",
        "x = dres_conv(x, s=1, filters=(64, 256))\n",
        "x = dres_identity(x, filters=(64, 256))\n",
        "x = dres_identity(x, filters=(64, 256))\n",
        "x = Conv2DTranspose(3, kernel_size=(7, 7), strides=(2, 2), padding='same')(x)\n",
        "x = BatchNormalization()(x)\n",
        "decoded = Activation(activations.sigmoid)(x)\n",
        "decoder = tf.keras.Model(inputs=dec_input, outputs=decoded, name='Decoder')"
      ],
      "execution_count": null,
      "outputs": []
    },
    {
      "cell_type": "markdown",
      "metadata": {
        "id": "V4JuYXauAUek",
        "colab_type": "text"
      },
      "source": [
        "## Creating Auto Encoder\n"
      ]
    },
    {
      "cell_type": "code",
      "metadata": {
        "id": "V-w0srMsHuxQ",
        "colab_type": "code",
        "colab": {
          "base_uri": "https://localhost:8080/",
          "height": 255
        },
        "outputId": "9a54c0d2-bbb1-4512-a57f-1fbf86a4b121"
      },
      "source": [
        "enc_input = Input(shape=(x_train.shape[1], x_train.shape[2], x_train.shape[3]))\n",
        "encoding = encoder(enc_input)\n",
        "decoded = decoder(encoding)\n",
        "auto_encoder = tf.keras.Model(inputs=enc_input, outputs=decoded, name='AutoEncoder')\n",
        "auto_encoder.compile(optimizer='adam', loss=tf.keras.losses.MeanSquaredError())\n",
        "auto_encoder.summary()"
      ],
      "execution_count": null,
      "outputs": [
        {
          "output_type": "stream",
          "text": [
            "Model: \"AutoEncoder\"\n",
            "_________________________________________________________________\n",
            "Layer (type)                 Output Shape              Param #   \n",
            "=================================================================\n",
            "input_4 (InputLayer)         [(None, 32, 32, 3)]       0         \n",
            "_________________________________________________________________\n",
            "Encoder (Model)              (None, 2048)              46854528  \n",
            "_________________________________________________________________\n",
            "Decoder (Model)              (None, 32, 32, 3)         118988815 \n",
            "=================================================================\n",
            "Total params: 165,843,343\n",
            "Trainable params: 165,638,537\n",
            "Non-trainable params: 204,806\n",
            "_________________________________________________________________\n"
          ],
          "name": "stdout"
        }
      ]
    },
    {
      "cell_type": "markdown",
      "metadata": {
        "id": "fReFugc4AYsH",
        "colab_type": "text"
      },
      "source": [
        "## Training and Saving Model\n",
        "Skip this section if you want to simply load the pretrained model"
      ]
    },
    {
      "cell_type": "code",
      "metadata": {
        "id": "raRU4OszwOpT",
        "colab_type": "code",
        "colab": {
          "base_uri": "https://localhost:8080/",
          "height": 374
        },
        "outputId": "a802dc23-2f43-4e1d-e824-7392391a4edc"
      },
      "source": [
        "%load_ext tensorboard\n",
        "log_dir = \"logs/fit/\" + datetime.datetime.now().strftime(\"%Y%m%d-%H%M%S\")\n",
        "tensorboard_callback = tf.keras.callbacks.TensorBoard(log_dir=log_dir, histogram_freq=1)\n",
        "auto_encoder.fit(x_train, x_train, epochs=10, batch_size=128, shuffle=True, validation_data=(x_test, x_test), callbacks=tensorboard_callback)"
      ],
      "execution_count": null,
      "outputs": [
        {
          "output_type": "stream",
          "text": [
            "Epoch 1/10\n",
            "391/391 [==============================] - 355s 909ms/step - loss: 0.0366 - val_loss: 0.0750\n",
            "Epoch 2/10\n",
            "391/391 [==============================] - 353s 904ms/step - loss: 0.0270 - val_loss: 0.0471\n",
            "Epoch 3/10\n",
            "391/391 [==============================] - 352s 901ms/step - loss: 0.0205 - val_loss: 0.0219\n",
            "Epoch 4/10\n",
            "391/391 [==============================] - 351s 897ms/step - loss: 0.0186 - val_loss: 0.0186\n",
            "Epoch 5/10\n",
            "391/391 [==============================] - 351s 898ms/step - loss: 0.0173 - val_loss: 0.0206\n",
            "Epoch 6/10\n",
            "391/391 [==============================] - 352s 900ms/step - loss: 0.0161 - val_loss: 0.0183\n",
            "Epoch 7/10\n",
            "391/391 [==============================] - 353s 902ms/step - loss: 0.0150 - val_loss: 0.0164\n",
            "Epoch 8/10\n",
            "391/391 [==============================] - 353s 903ms/step - loss: 0.0144 - val_loss: 0.0170\n",
            "Epoch 9/10\n",
            "391/391 [==============================] - 353s 902ms/step - loss: 0.0153 - val_loss: 0.0195\n",
            "Epoch 10/10\n",
            "391/391 [==============================] - 352s 900ms/step - loss: 0.0162 - val_loss: 0.0193\n"
          ],
          "name": "stdout"
        },
        {
          "output_type": "execute_result",
          "data": {
            "text/plain": [
              "<tensorflow.python.keras.callbacks.History at 0x7fd407fdbac8>"
            ]
          },
          "metadata": {
            "tags": []
          },
          "execution_count": 9
        }
      ]
    },
    {
      "cell_type": "code",
      "metadata": {
        "id": "w41joiNjNq4c",
        "colab_type": "code",
        "colab": {}
      },
      "source": [
        "# %tensorboard --logdir logs\n",
        "# Uncomment and run the above line to start TensorBoard GUI"
      ],
      "execution_count": null,
      "outputs": []
    },
    {
      "cell_type": "code",
      "metadata": {
        "id": "rxUTTV-y9pzm",
        "colab_type": "code",
        "colab": {
          "base_uri": "https://localhost:8080/",
          "height": 122
        },
        "outputId": "0a64da1e-9044-4db3-d8e4-8be8dace5189"
      },
      "source": [
        "drive.mount('/content/gdrive', force_remount=True)\n",
        "ENC_STORE_PATH = \"/content/gdrive/My Drive/Colab/TF_ResNet101_ENC.h5\"\n",
        "DEC_STORE_PATH = \"/content/gdrive/My Drive/Colab/TF_ResNet101_DEC.h5\"\n",
        "AE_STORE_PATH = \"/content/gdrive/My Drive/Colab/TF_ResNet101_AE.h5\"\n",
        "encoder.save_weights(ENC_STORE_PATH)\n",
        "decoder.save_weights(DEC_STORE_PATH)\n",
        "auto_encoder.save_weights(AE_STORE_PATH)"
      ],
      "execution_count": null,
      "outputs": [
        {
          "output_type": "stream",
          "text": [
            "Go to this URL in a browser: https://accounts.google.com/o/oauth2/auth?client_id=947318989803-6bn6qk8qdgf4n4g3pfee6491hc0brc4i.apps.googleusercontent.com&redirect_uri=urn%3aietf%3awg%3aoauth%3a2.0%3aoob&response_type=code&scope=email%20https%3a%2f%2fwww.googleapis.com%2fauth%2fdocs.test%20https%3a%2f%2fwww.googleapis.com%2fauth%2fdrive%20https%3a%2f%2fwww.googleapis.com%2fauth%2fdrive.photos.readonly%20https%3a%2f%2fwww.googleapis.com%2fauth%2fpeopleapi.readonly\n",
            "\n",
            "Enter your authorization code:\n",
            "··········\n",
            "Mounted at /content/gdrive\n"
          ],
          "name": "stdout"
        }
      ]
    }
  ]
}